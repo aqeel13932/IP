{
 "cells": [
  {
   "cell_type": "code",
   "execution_count": 2,
   "metadata": {
    "collapsed": true
   },
   "outputs": [],
   "source": [
    "import numpy as np\n",
    "import cv2\n",
    "%matplotlib inline\n",
    "import matplotlib.pyplot as plt\n",
    "import pandas as pd"
   ]
  },
  {
   "cell_type": "code",
   "execution_count": 3,
   "metadata": {
    "collapsed": false,
    "scrolled": false
   },
   "outputs": [
    {
     "name": "stdout",
     "output_type": "stream",
     "text": [
      "11\n"
     ]
    }
   ],
   "source": [
    "x =np.reshape([2,4,11,5,3,4,5,12,3,8,2,6,2,2,12,3,10,9,14,5,10,2,14,12,2],(5,5))\n",
    "print len(np.unique(x))"
   ]
  },
  {
   "cell_type": "code",
   "execution_count": 4,
   "metadata": {
    "collapsed": false
   },
   "outputs": [],
   "source": [
    "y = np.bincount(x.reshape((25,)))\n",
    "ii = np.nonzero(y)[0]"
   ]
  },
  {
   "cell_type": "code",
   "execution_count": 5,
   "metadata": {
    "collapsed": false
   },
   "outputs": [
    {
     "data": {
      "text/html": [
       "<div style=\"max-height:1000px;max-width:1500px;overflow:auto;\">\n",
       "<table border=\"1\" class=\"dataframe\">\n",
       "  <thead>\n",
       "    <tr style=\"text-align: right;\">\n",
       "      <th></th>\n",
       "      <th>value</th>\n",
       "      <th>Count</th>\n",
       "    </tr>\n",
       "  </thead>\n",
       "  <tbody>\n",
       "    <tr>\n",
       "      <th>0 </th>\n",
       "      <td>  2</td>\n",
       "      <td> 6</td>\n",
       "    </tr>\n",
       "    <tr>\n",
       "      <th>1 </th>\n",
       "      <td>  3</td>\n",
       "      <td> 3</td>\n",
       "    </tr>\n",
       "    <tr>\n",
       "      <th>2 </th>\n",
       "      <td>  4</td>\n",
       "      <td> 2</td>\n",
       "    </tr>\n",
       "    <tr>\n",
       "      <th>3 </th>\n",
       "      <td>  5</td>\n",
       "      <td> 3</td>\n",
       "    </tr>\n",
       "    <tr>\n",
       "      <th>4 </th>\n",
       "      <td>  6</td>\n",
       "      <td> 1</td>\n",
       "    </tr>\n",
       "    <tr>\n",
       "      <th>5 </th>\n",
       "      <td>  8</td>\n",
       "      <td> 1</td>\n",
       "    </tr>\n",
       "    <tr>\n",
       "      <th>6 </th>\n",
       "      <td>  9</td>\n",
       "      <td> 1</td>\n",
       "    </tr>\n",
       "    <tr>\n",
       "      <th>7 </th>\n",
       "      <td> 10</td>\n",
       "      <td> 2</td>\n",
       "    </tr>\n",
       "    <tr>\n",
       "      <th>8 </th>\n",
       "      <td> 11</td>\n",
       "      <td> 1</td>\n",
       "    </tr>\n",
       "    <tr>\n",
       "      <th>9 </th>\n",
       "      <td> 12</td>\n",
       "      <td> 3</td>\n",
       "    </tr>\n",
       "    <tr>\n",
       "      <th>10</th>\n",
       "      <td> 14</td>\n",
       "      <td> 2</td>\n",
       "    </tr>\n",
       "  </tbody>\n",
       "</table>\n",
       "</div>"
      ],
      "text/plain": [
       "    value  Count\n",
       "0       2      6\n",
       "1       3      3\n",
       "2       4      2\n",
       "3       5      3\n",
       "4       6      1\n",
       "5       8      1\n",
       "6       9      1\n",
       "7      10      2\n",
       "8      11      1\n",
       "9      12      3\n",
       "10     14      2"
      ]
     },
     "execution_count": 5,
     "metadata": {},
     "output_type": "execute_result"
    }
   ],
   "source": [
    "a = pd.Series(ii,name='value')\n",
    "b = pd.Series(y[ii],name='Count')\n",
    "df = pd.concat([a,b],axis=1)\n",
    "df"
   ]
  },
  {
   "cell_type": "markdown",
   "metadata": {},
   "source": [
    "#a)\n",
    "Draw the histogram of this image"
   ]
  },
  {
   "cell_type": "code",
   "execution_count": 6,
   "metadata": {
    "collapsed": false,
    "scrolled": true
   },
   "outputs": [
    {
     "data": {
      "image/png": "[encoded data removed]",
      "text/plain": [
       "<matplotlib.figure.Figure at 0x7f4a1c4c2490>"
      ]
     },
     "metadata": {},
     "output_type": "display_data"
    }
   ],
   "source": [
    "plt.hist(x.reshape((25,)),bins=20)\n",
    "plt.title(\"Image Histogram\")\n",
    "plt.xlabel(\"Value\")\n",
    "plt.ylabel(\"Frequency\")\n",
    "plt.xlim(np.min(x),np.max(x))\n",
    "\n",
    "fig = plt.gcf()\n",
    "plt.show()\n"
   ]
  },
  {
   "cell_type": "markdown",
   "metadata": {},
   "source": [
    "#b)\n",
    "Find the output of HE and draw the histogram of equalized image"
   ]
  },
  {
   "cell_type": "code",
   "execution_count": 7,
   "metadata": {
    "collapsed": false,
    "scrolled": true
   },
   "outputs": [
    {
     "data": {
      "text/html": [
       "<div style=\"max-height:1000px;max-width:1500px;overflow:auto;\">\n",
       "<table border=\"1\" class=\"dataframe\">\n",
       "  <thead>\n",
       "    <tr style=\"text-align: right;\">\n",
       "      <th></th>\n",
       "      <th>value</th>\n",
       "      <th>Count</th>\n",
       "      <th>Probablitiy</th>\n",
       "      <th>CDF</th>\n",
       "    </tr>\n",
       "  </thead>\n",
       "  <tbody>\n",
       "    <tr>\n",
       "      <th>0 </th>\n",
       "      <td>  2</td>\n",
       "      <td> 6</td>\n",
       "      <td> 0.24</td>\n",
       "      <td> 0.24</td>\n",
       "    </tr>\n",
       "    <tr>\n",
       "      <th>1 </th>\n",
       "      <td>  3</td>\n",
       "      <td> 3</td>\n",
       "      <td> 0.12</td>\n",
       "      <td> 0.36</td>\n",
       "    </tr>\n",
       "    <tr>\n",
       "      <th>2 </th>\n",
       "      <td>  4</td>\n",
       "      <td> 2</td>\n",
       "      <td> 0.08</td>\n",
       "      <td> 0.44</td>\n",
       "    </tr>\n",
       "    <tr>\n",
       "      <th>3 </th>\n",
       "      <td>  5</td>\n",
       "      <td> 3</td>\n",
       "      <td> 0.12</td>\n",
       "      <td> 0.56</td>\n",
       "    </tr>\n",
       "    <tr>\n",
       "      <th>4 </th>\n",
       "      <td>  6</td>\n",
       "      <td> 1</td>\n",
       "      <td> 0.04</td>\n",
       "      <td> 0.60</td>\n",
       "    </tr>\n",
       "    <tr>\n",
       "      <th>5 </th>\n",
       "      <td>  8</td>\n",
       "      <td> 1</td>\n",
       "      <td> 0.04</td>\n",
       "      <td> 0.64</td>\n",
       "    </tr>\n",
       "    <tr>\n",
       "      <th>6 </th>\n",
       "      <td>  9</td>\n",
       "      <td> 1</td>\n",
       "      <td> 0.04</td>\n",
       "      <td> 0.68</td>\n",
       "    </tr>\n",
       "    <tr>\n",
       "      <th>7 </th>\n",
       "      <td> 10</td>\n",
       "      <td> 2</td>\n",
       "      <td> 0.08</td>\n",
       "      <td> 0.76</td>\n",
       "    </tr>\n",
       "    <tr>\n",
       "      <th>8 </th>\n",
       "      <td> 11</td>\n",
       "      <td> 1</td>\n",
       "      <td> 0.04</td>\n",
       "      <td> 0.80</td>\n",
       "    </tr>\n",
       "    <tr>\n",
       "      <th>9 </th>\n",
       "      <td> 12</td>\n",
       "      <td> 3</td>\n",
       "      <td> 0.12</td>\n",
       "      <td> 0.92</td>\n",
       "    </tr>\n",
       "    <tr>\n",
       "      <th>10</th>\n",
       "      <td> 14</td>\n",
       "      <td> 2</td>\n",
       "      <td> 0.08</td>\n",
       "      <td> 1.00</td>\n",
       "    </tr>\n",
       "  </tbody>\n",
       "</table>\n",
       "</div>"
      ],
      "text/plain": [
       "    value  Count  Probablitiy   CDF\n",
       "0       2      6         0.24  0.24\n",
       "1       3      3         0.12  0.36\n",
       "2       4      2         0.08  0.44\n",
       "3       5      3         0.12  0.56\n",
       "4       6      1         0.04  0.60\n",
       "5       8      1         0.04  0.64\n",
       "6       9      1         0.04  0.68\n",
       "7      10      2         0.08  0.76\n",
       "8      11      1         0.04  0.80\n",
       "9      12      3         0.12  0.92\n",
       "10     14      2         0.08  1.00"
      ]
     },
     "execution_count": 7,
     "metadata": {},
     "output_type": "execute_result"
    }
   ],
   "source": [
    "table = zip(ii,y[ii])\n",
    "p =map(lambda x:x[1]/float(25),table)\n",
    "cdf = []\n",
    "for i in range (len(p)):\n",
    "    cdf.append(sum(p[:i+1]))\n",
    "p =pd.Series(p,name='Probablitiy').to_frame()\n",
    "cdf = pd.Series(cdf,name='CDF').to_frame()\n",
    "df = df.join([p,cdf])\n",
    "df\n",
    "#table = zip(ii,y[ii],p,cdf)\n",
    "#table"
   ]
  },
  {
   "cell_type": "code",
   "execution_count": 8,
   "metadata": {
    "collapsed": false
   },
   "outputs": [],
   "source": [
    "df['HE'] = (((df.CDF-df.CDF.min())/(1-df.CDF.min())) *15).round()"
   ]
  },
  {
   "cell_type": "code",
   "execution_count": 9,
   "metadata": {
    "collapsed": false
   },
   "outputs": [
    {
     "data": {
      "text/html": [
       "<div style=\"max-height:1000px;max-width:1500px;overflow:auto;\">\n",
       "<table border=\"1\" class=\"dataframe\">\n",
       "  <thead>\n",
       "    <tr style=\"text-align: right;\">\n",
       "      <th></th>\n",
       "      <th>value</th>\n",
       "      <th>Count</th>\n",
       "      <th>Probablitiy</th>\n",
       "      <th>CDF</th>\n",
       "      <th>HE</th>\n",
       "    </tr>\n",
       "  </thead>\n",
       "  <tbody>\n",
       "    <tr>\n",
       "      <th>0 </th>\n",
       "      <td>  2</td>\n",
       "      <td> 6</td>\n",
       "      <td> 0.24</td>\n",
       "      <td> 0.24</td>\n",
       "      <td>  0</td>\n",
       "    </tr>\n",
       "    <tr>\n",
       "      <th>1 </th>\n",
       "      <td>  3</td>\n",
       "      <td> 3</td>\n",
       "      <td> 0.12</td>\n",
       "      <td> 0.36</td>\n",
       "      <td>  2</td>\n",
       "    </tr>\n",
       "    <tr>\n",
       "      <th>2 </th>\n",
       "      <td>  4</td>\n",
       "      <td> 2</td>\n",
       "      <td> 0.08</td>\n",
       "      <td> 0.44</td>\n",
       "      <td>  4</td>\n",
       "    </tr>\n",
       "    <tr>\n",
       "      <th>3 </th>\n",
       "      <td>  5</td>\n",
       "      <td> 3</td>\n",
       "      <td> 0.12</td>\n",
       "      <td> 0.56</td>\n",
       "      <td>  6</td>\n",
       "    </tr>\n",
       "    <tr>\n",
       "      <th>4 </th>\n",
       "      <td>  6</td>\n",
       "      <td> 1</td>\n",
       "      <td> 0.04</td>\n",
       "      <td> 0.60</td>\n",
       "      <td>  7</td>\n",
       "    </tr>\n",
       "    <tr>\n",
       "      <th>5 </th>\n",
       "      <td>  8</td>\n",
       "      <td> 1</td>\n",
       "      <td> 0.04</td>\n",
       "      <td> 0.64</td>\n",
       "      <td>  8</td>\n",
       "    </tr>\n",
       "    <tr>\n",
       "      <th>6 </th>\n",
       "      <td>  9</td>\n",
       "      <td> 1</td>\n",
       "      <td> 0.04</td>\n",
       "      <td> 0.68</td>\n",
       "      <td>  9</td>\n",
       "    </tr>\n",
       "    <tr>\n",
       "      <th>7 </th>\n",
       "      <td> 10</td>\n",
       "      <td> 2</td>\n",
       "      <td> 0.08</td>\n",
       "      <td> 0.76</td>\n",
       "      <td> 10</td>\n",
       "    </tr>\n",
       "    <tr>\n",
       "      <th>8 </th>\n",
       "      <td> 11</td>\n",
       "      <td> 1</td>\n",
       "      <td> 0.04</td>\n",
       "      <td> 0.80</td>\n",
       "      <td> 11</td>\n",
       "    </tr>\n",
       "    <tr>\n",
       "      <th>9 </th>\n",
       "      <td> 12</td>\n",
       "      <td> 3</td>\n",
       "      <td> 0.12</td>\n",
       "      <td> 0.92</td>\n",
       "      <td> 13</td>\n",
       "    </tr>\n",
       "    <tr>\n",
       "      <th>10</th>\n",
       "      <td> 14</td>\n",
       "      <td> 2</td>\n",
       "      <td> 0.08</td>\n",
       "      <td> 1.00</td>\n",
       "      <td> 15</td>\n",
       "    </tr>\n",
       "  </tbody>\n",
       "</table>\n",
       "</div>"
      ],
      "text/plain": [
       "    value  Count  Probablitiy   CDF  HE\n",
       "0       2      6         0.24  0.24   0\n",
       "1       3      3         0.12  0.36   2\n",
       "2       4      2         0.08  0.44   4\n",
       "3       5      3         0.12  0.56   6\n",
       "4       6      1         0.04  0.60   7\n",
       "5       8      1         0.04  0.64   8\n",
       "6       9      1         0.04  0.68   9\n",
       "7      10      2         0.08  0.76  10\n",
       "8      11      1         0.04  0.80  11\n",
       "9      12      3         0.12  0.92  13\n",
       "10     14      2         0.08  1.00  15"
      ]
     },
     "execution_count": 9,
     "metadata": {},
     "output_type": "execute_result"
    }
   ],
   "source": [
    "df"
   ]
  },
  {
   "cell_type": "code",
   "execution_count": 10,
   "metadata": {
    "collapsed": false
   },
   "outputs": [],
   "source": [
    "Eimg = map(lambda x:df[df.value==x].HE.values[0],x.reshape((25,)))"
   ]
  },
  {
   "cell_type": "code",
   "execution_count": 11,
   "metadata": {
    "collapsed": false
   },
   "outputs": [
    {
     "data": {
      "image/png": "[encoded data removed]",
      "text/plain": [
       "<matplotlib.figure.Figure at 0x7f4a20ba4e50>"
      ]
     },
     "metadata": {},
     "output_type": "display_data"
    }
   ],
   "source": [
    "plt.hist(Eimg,bins=20)\n",
    "plt.title(\"Equalized Image Histogram\")\n",
    "plt.xlabel(\"Value\")\n",
    "plt.ylabel(\"Frequency\")\n",
    "plt.xlim(np.min(Eimg),np.max(Eimg))\n",
    "\n",
    "fig = plt.gcf()\n",
    "plt.show()"
   ]
  },
  {
   "cell_type": "markdown",
   "metadata": {},
   "source": [
    "#c)\n",
    "If the equalized image in subject to compression by () Find the average length of the compression image."
   ]
  },
  {
   "cell_type": "code",
   "execution_count": 12,
   "metadata": {
    "collapsed": false
   },
   "outputs": [
    {
     "data": {
      "text/html": [
       "<div style=\"max-height:1000px;max-width:1500px;overflow:auto;\">\n",
       "<table border=\"1\" class=\"dataframe\">\n",
       "  <thead>\n",
       "    <tr style=\"text-align: right;\">\n",
       "      <th></th>\n",
       "      <th>value</th>\n",
       "      <th>Count</th>\n",
       "      <th>Pr</th>\n",
       "    </tr>\n",
       "  </thead>\n",
       "  <tbody>\n",
       "    <tr>\n",
       "      <th>0 </th>\n",
       "      <td>  0</td>\n",
       "      <td> 6</td>\n",
       "      <td> 0.24</td>\n",
       "    </tr>\n",
       "    <tr>\n",
       "      <th>1 </th>\n",
       "      <td>  2</td>\n",
       "      <td> 3</td>\n",
       "      <td> 0.12</td>\n",
       "    </tr>\n",
       "    <tr>\n",
       "      <th>3 </th>\n",
       "      <td>  6</td>\n",
       "      <td> 3</td>\n",
       "      <td> 0.12</td>\n",
       "    </tr>\n",
       "    <tr>\n",
       "      <th>9 </th>\n",
       "      <td> 13</td>\n",
       "      <td> 3</td>\n",
       "      <td> 0.12</td>\n",
       "    </tr>\n",
       "    <tr>\n",
       "      <th>2 </th>\n",
       "      <td>  4</td>\n",
       "      <td> 2</td>\n",
       "      <td> 0.08</td>\n",
       "    </tr>\n",
       "    <tr>\n",
       "      <th>7 </th>\n",
       "      <td> 10</td>\n",
       "      <td> 2</td>\n",
       "      <td> 0.08</td>\n",
       "    </tr>\n",
       "    <tr>\n",
       "      <th>10</th>\n",
       "      <td> 15</td>\n",
       "      <td> 2</td>\n",
       "      <td> 0.08</td>\n",
       "    </tr>\n",
       "    <tr>\n",
       "      <th>4 </th>\n",
       "      <td>  7</td>\n",
       "      <td> 1</td>\n",
       "      <td> 0.04</td>\n",
       "    </tr>\n",
       "    <tr>\n",
       "      <th>5 </th>\n",
       "      <td>  8</td>\n",
       "      <td> 1</td>\n",
       "      <td> 0.04</td>\n",
       "    </tr>\n",
       "    <tr>\n",
       "      <th>6 </th>\n",
       "      <td>  9</td>\n",
       "      <td> 1</td>\n",
       "      <td> 0.04</td>\n",
       "    </tr>\n",
       "    <tr>\n",
       "      <th>8 </th>\n",
       "      <td> 11</td>\n",
       "      <td> 1</td>\n",
       "      <td> 0.04</td>\n",
       "    </tr>\n",
       "  </tbody>\n",
       "</table>\n",
       "</div>"
      ],
      "text/plain": [
       "    value  Count    Pr\n",
       "0       0      6  0.24\n",
       "1       2      3  0.12\n",
       "3       6      3  0.12\n",
       "9      13      3  0.12\n",
       "2       4      2  0.08\n",
       "7      10      2  0.08\n",
       "10     15      2  0.08\n",
       "4       7      1  0.04\n",
       "5       8      1  0.04\n",
       "6       9      1  0.04\n",
       "8      11      1  0.04"
      ]
     },
     "execution_count": 12,
     "metadata": {},
     "output_type": "execute_result"
    }
   ],
   "source": [
    "Ey = np.bincount(Eimg)\n",
    "Eii = np.nonzero(Ey)[0]\n",
    "Ea = pd.Series(Eii,name='value')\n",
    "Eb = pd.Series(Ey[Eii],name='Count')\n",
    "Edf = pd.concat([Ea,Eb],axis=1)\n",
    "Edf['Pr'] = Edf['Count']/25\n",
    "Edf = Edf.sort('Count',ascending=False)\n",
    "Edf"
   ]
  },
  {
   "cell_type": "code",
   "execution_count": 13,
   "metadata": {
    "collapsed": false,
    "scrolled": true
   },
   "outputs": [
    {
     "data": {
      "text/html": [
       "<div style=\"max-height:1000px;max-width:1500px;overflow:auto;\">\n",
       "<table border=\"1\" class=\"dataframe\">\n",
       "  <thead>\n",
       "    <tr style=\"text-align: right;\">\n",
       "      <th></th>\n",
       "      <th>value</th>\n",
       "      <th>Count</th>\n",
       "      <th>Pr</th>\n",
       "      <th>Code_Length</th>\n",
       "    </tr>\n",
       "  </thead>\n",
       "  <tbody>\n",
       "    <tr>\n",
       "      <th>0 </th>\n",
       "      <td>  0</td>\n",
       "      <td> 6</td>\n",
       "      <td> 0.24</td>\n",
       "      <td> 2</td>\n",
       "    </tr>\n",
       "    <tr>\n",
       "      <th>1 </th>\n",
       "      <td>  2</td>\n",
       "      <td> 3</td>\n",
       "      <td> 0.12</td>\n",
       "      <td> 3</td>\n",
       "    </tr>\n",
       "    <tr>\n",
       "      <th>3 </th>\n",
       "      <td>  6</td>\n",
       "      <td> 3</td>\n",
       "      <td> 0.12</td>\n",
       "      <td> 3</td>\n",
       "    </tr>\n",
       "    <tr>\n",
       "      <th>9 </th>\n",
       "      <td> 13</td>\n",
       "      <td> 3</td>\n",
       "      <td> 0.12</td>\n",
       "      <td> 5</td>\n",
       "    </tr>\n",
       "    <tr>\n",
       "      <th>2 </th>\n",
       "      <td>  4</td>\n",
       "      <td> 2</td>\n",
       "      <td> 0.08</td>\n",
       "      <td> 3</td>\n",
       "    </tr>\n",
       "    <tr>\n",
       "      <th>7 </th>\n",
       "      <td> 10</td>\n",
       "      <td> 2</td>\n",
       "      <td> 0.08</td>\n",
       "      <td> 5</td>\n",
       "    </tr>\n",
       "    <tr>\n",
       "      <th>10</th>\n",
       "      <td> 15</td>\n",
       "      <td> 2</td>\n",
       "      <td> 0.08</td>\n",
       "      <td> 5</td>\n",
       "    </tr>\n",
       "    <tr>\n",
       "      <th>4 </th>\n",
       "      <td>  7</td>\n",
       "      <td> 1</td>\n",
       "      <td> 0.04</td>\n",
       "      <td> 3</td>\n",
       "    </tr>\n",
       "    <tr>\n",
       "      <th>5 </th>\n",
       "      <td>  8</td>\n",
       "      <td> 1</td>\n",
       "      <td> 0.04</td>\n",
       "      <td> 4</td>\n",
       "    </tr>\n",
       "    <tr>\n",
       "      <th>6 </th>\n",
       "      <td>  9</td>\n",
       "      <td> 1</td>\n",
       "      <td> 0.04</td>\n",
       "      <td> 4</td>\n",
       "    </tr>\n",
       "    <tr>\n",
       "      <th>8 </th>\n",
       "      <td> 11</td>\n",
       "      <td> 1</td>\n",
       "      <td> 0.04</td>\n",
       "      <td> 5</td>\n",
       "    </tr>\n",
       "  </tbody>\n",
       "</table>\n",
       "</div>"
      ],
      "text/plain": [
       "    value  Count    Pr  Code_Length\n",
       "0       0      6  0.24            2\n",
       "1       2      3  0.12            3\n",
       "3       6      3  0.12            3\n",
       "9      13      3  0.12            5\n",
       "2       4      2  0.08            3\n",
       "7      10      2  0.08            5\n",
       "10     15      2  0.08            5\n",
       "4       7      1  0.04            3\n",
       "5       8      1  0.04            4\n",
       "6       9      1  0.04            4\n",
       "8      11      1  0.04            5"
      ]
     },
     "execution_count": 13,
     "metadata": {},
     "output_type": "execute_result"
    }
   ],
   "source": [
    "Ey = np.bincount(Eimg)\n",
    "Eii = np.nonzero(Ey)[0]\n",
    "Ea = pd.Series(Eii,name='value')\n",
    "Eb = pd.Series(Ey[Eii],name='Count')\n",
    "Edf = pd.concat([Ea,Eb],axis=1)\n",
    "Edf['Pr'] = Edf['Count']/25\n",
    "Edf = Edf.sort('Count',ascending=False)\n",
    "Edf['Code_Length']= pd.Series([2,3,3,3,3,4,4,5,5,5,5])\n",
    "Edf"
   ]
  },
  {
   "cell_type": "code",
   "execution_count": 14,
   "metadata": {
    "collapsed": false
   },
   "outputs": [
    {
     "data": {
      "text/plain": [
       "3.4800000000000004"
      ]
     },
     "execution_count": 14,
     "metadata": {},
     "output_type": "execute_result"
    }
   ],
   "source": [
    "sum( Edf['Pr']*Edf['Code_Length'])"
   ]
  },
  {
   "cell_type": "markdown",
   "metadata": {},
   "source": [
    "#d)\n",
    "if a 3X3 laplacian with isotropy of 45 degree is applied to the pixel indicated in the circul of the equalized image find the new value."
   ]
  },
  {
   "cell_type": "code",
   "execution_count": 15,
   "metadata": {
    "collapsed": false
   },
   "outputs": [
    {
     "data": {
      "text/plain": [
       "array([[  0.,   4.,  11.,   6.,   2.],\n",
       "       [  4.,   6.,  13.,   2.,   8.],\n",
       "       [  0.,   7.,   0.,   0.,  13.],\n",
       "       [  2.,  10.,   9.,  15.,   6.],\n",
       "       [ 10.,   0.,  15.,  13.,   0.]])"
      ]
     },
     "execution_count": 15,
     "metadata": {},
     "output_type": "execute_result"
    }
   ],
   "source": [
    "eimgnp = np.reshape(Eimg,(5,5))\n",
    "eimgnp"
   ]
  },
  {
   "cell_type": "code",
   "execution_count": 16,
   "metadata": {
    "collapsed": true
   },
   "outputs": [],
   "source": [
    "laplacian = np.reshape([1,1,1,1,-8,1,1,1,1],(3,3))\n",
    "imageImportantMatrix = np.reshape([6,13,2,7,0,0,10,9,15],(3,3))"
   ]
  },
  {
   "cell_type": "code",
   "execution_count": 17,
   "metadata": {
    "collapsed": false
   },
   "outputs": [
    {
     "name": "stdout",
     "output_type": "stream",
     "text": [
      "[[ 1  1  1]\n",
      " [ 1 -8  1]\n",
      " [ 1  1  1]]\n",
      "============\n",
      "[[ 6 13  2]\n",
      " [ 7  0  0]\n",
      " [10  9 15]]\n"
     ]
    }
   ],
   "source": [
    "print laplacian\n",
    "print '============'\n",
    "print imageImportantMatrix"
   ]
  },
  {
   "cell_type": "markdown",
   "metadata": {
    "collapsed": false
   },
   "source": [
    "Since we used negative center then we substract : "
   ]
  },
  {
   "cell_type": "code",
   "execution_count": 27,
   "metadata": {
    "collapsed": false
   },
   "outputs": [
    {
     "data": {
      "text/plain": [
       "-62"
      ]
     },
     "execution_count": 27,
     "metadata": {},
     "output_type": "execute_result"
    }
   ],
   "source": [
    "imageImportantMatrix[1,1]- (np.sum(laplacian*imageImportantMatrix))"
   ]
  }
 ],
 "metadata": {
  "kernelspec": {
   "display_name": "Python 2",
   "language": "python",
   "name": "python2"
  },
  "language_info": {
   "codemirror_mode": {
    "name": "ipython",
    "version": 2
   },
   "file_extension": ".py",
   "mimetype": "text/x-python",
   "name": "python",
   "nbconvert_exporter": "python",
   "pygments_lexer": "ipython2",
   "version": "2.7.11+"
  }
 },
 "nbformat": 4,
 "nbformat_minor": 0
}
