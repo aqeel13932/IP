{
 "cells": [
  {
   "cell_type": "code",
   "execution_count": 1,
   "metadata": {
    "collapsed": true
   },
   "outputs": [],
   "source": [
    "__author__ = 'aqeel'\n",
    "import cv2\n",
    "import numpy as np\n",
    "from math import cos\n",
    "def showimg(img):\n",
    "    cv2.startWindowThread()\n",
    "    cv2.namedWindow(\"test\", cv2.WINDOW_NORMAL)\n",
    "    cv2.imshow(\"test\", img)\n",
    "    cv2.resizeWindow('test',600,600)\n",
    "\n",
    "def readimg(name):\n",
    "    return cv2.imread(name)"
   ]
  },
  {
   "cell_type": "code",
   "execution_count": 2,
   "metadata": {
    "collapsed": true
   },
   "outputs": [],
   "source": [
    "def RGTToHSIV3(img):\n",
    "    print img.shape\n",
    "    #Normailization\n",
    "    img = np.array(img,dtype=np.float)\n",
    "    thesum =np.sum(img,axis=2,dtype=np.float)\n",
    "    img[:,:,0] = img[:,:,0]/thesum\n",
    "    img[:,:,1] = img[:,:,1]/thesum\n",
    "    img[:,:,2] = img[:,:,2]/thesum\n",
    "    I = np.sum(img,axis=2)/3\n",
    "    m = np.min(img,axis=2)\n",
    "    #By default when divide by zero numpy assigen value of zero.\n",
    "    S = 1-np.min(img,axis=2)/I\n",
    "    numinator =img[:,:,2]-0.5*(img[:,:,0]+img[:,:,1]) #(R-1/2*(G+B))\n",
    "    denum = np.sqrt(np.power(img[:,:,2]-img[:,:,1],2)+(img[:,:,2]-img[:,:,0])*(img[:,:,1]-img[:,:,0]))\n",
    "    theta= np.degrees(np.arccos(numinator/(denum+0.00001)))\n",
    "    coefg_geqb = img[:,:,1]>=img[:,:,0]\n",
    "    coefg_g_b = img[:,:,0]>img[:,:,1]\n",
    "    H = (coefg_geqb*theta+coefg_g_b*(360-theta))/360\n",
    "    HSI = np.zeros(img.shape,dtype=float)\n",
    "    HSI[:,:,0] = S\n",
    "    HSI[:,:,1]=I\n",
    "    HSI[:,:,2]=H\n",
    "    return HSI\n",
    "\n"
   ]
  },
  {
   "cell_type": "code",
   "execution_count": 52,
   "metadata": {
    "collapsed": true
   },
   "outputs": [],
   "source": [
    "def HSItoRGB(img):\n",
    "    R = np.ones((img.shape[0],img.shape[1]),dtype=np.float64)\n",
    "    G = np.ones((img.shape[0],img.shape[1]),dtype=np.float64)\n",
    "    B = np.ones((img.shape[0],img.shape[1]),dtype=np.float64)\n",
    "    img[:,:,2]*=360\n",
    "    for i in range (img.shape[0]):\n",
    "        for j in range(img.shape[1]):\n",
    "            S = img[i,j,0]\n",
    "            I = img[i,j,1]\n",
    "            H = img[i,j,2]\n",
    "            value1 = np.float64(I-I*S)\n",
    "            if H==0:\n",
    "                R[i,j]= I+2*I*S\n",
    "                G[i,j]=value1\n",
    "                B[i,j] = value1\n",
    "            elif H>0 and H<120:\n",
    "                R[i,j]= I + I*S*cos(H)/cos(60-H)\n",
    "                G = I + I*S*(1 - cos(H)/cos(60-H))\n",
    "                B[i,j] = I-I*S\n",
    "            elif H==120:\n",
    "                R[i,j]=  value1\n",
    "                G[i,j]=I+2*I*S\n",
    "                B[i,j] = value1\n",
    "            elif H>120 and H<240:\n",
    "                R[i,j] =value1\n",
    "                G[i,j] = I + I*S*cos(H-120)/cos(180-H)\n",
    "                B[i,j] = I + I*S*(1 - cos(H-120)/cos(180-H))\n",
    "            elif H==240:\n",
    "                R[i,j] =value1\n",
    "                G[i,j] =value1\n",
    "                B[i,j] = I + 2*I*S\n",
    "            elif H>240 and H<360:\n",
    "                R[i,j] = I + I*S*(1 - cos(H-240)/cos(300-H))\n",
    "                G[i,j] =value1\n",
    "                B[i,j] = I + I*S*cos(H-240)/cos(300-H)\n",
    "    Resul=np.zeros((img.shape[0],img.shape[1],img.shape[2]),np.float)\n",
    "    Resul[:,:,0] = B\n",
    "    Resul[:,:,1] = G\n",
    "    Resul[:,:,2] = R\n",
    "    return (B,G,R)"
   ]
  },
  {
   "cell_type": "code",
   "execution_count": 53,
   "metadata": {
    "collapsed": false
   },
   "outputs": [],
   "source": [
    "obelximg = readimg('Obelix.jpg')"
   ]
  },
  {
   "cell_type": "code",
   "execution_count": 54,
   "metadata": {
    "collapsed": false
   },
   "outputs": [
    {
     "name": "stdout",
     "output_type": "stream",
     "text": [
      "(2724, 2336, 3)\n"
     ]
    }
   ],
   "source": [
    "#Ordered as SIH\n",
    "hsiobelix = RGTToHSIV3(obelximg)"
   ]
  },
  {
   "cell_type": "code",
   "execution_count": 57,
   "metadata": {
    "collapsed": false
   },
   "outputs": [
    {
     "ename": "error",
     "evalue": "/build/opencv-iepTEA/opencv-2.4.9+dfsg/modules/imgproc/src/color.cpp:3642: error: (-215) depth == CV_8U || depth == CV_16U || depth == CV_32F in function cvtColor\n",
     "output_type": "error",
     "traceback": [
      "\u001b[1;31m---------------------------------------------------------------------------\u001b[0m",
      "\u001b[1;31merror\u001b[0m                                     Traceback (most recent call last)",
      "\u001b[1;32m<ipython-input-57-c124c83e12cb>\u001b[0m in \u001b[0;36m<module>\u001b[1;34m()\u001b[0m\n\u001b[0;32m      1\u001b[0m \u001b[0mhsiobelix\u001b[0m\u001b[1;33m[\u001b[0m\u001b[1;33m:\u001b[0m\u001b[1;33m,\u001b[0m\u001b[1;33m:\u001b[0m\u001b[1;33m,\u001b[0m\u001b[1;36m2\u001b[0m\u001b[1;33m]\u001b[0m \u001b[1;33m*=\u001b[0m\u001b[1;36m360\u001b[0m\u001b[1;33m\u001b[0m\u001b[0m\n\u001b[1;32m----> 2\u001b[1;33m \u001b[0munhsi\u001b[0m \u001b[1;33m=\u001b[0m \u001b[0mcv2\u001b[0m\u001b[1;33m.\u001b[0m\u001b[0mcvtColor\u001b[0m\u001b[1;33m(\u001b[0m\u001b[0mhsiobelix\u001b[0m\u001b[1;33m,\u001b[0m\u001b[0mcv2\u001b[0m\u001b[1;33m.\u001b[0m\u001b[0mCOLOR_HSV2BGR\u001b[0m\u001b[1;33m)\u001b[0m\u001b[1;33m\u001b[0m\u001b[0m\n\u001b[0m",
      "\u001b[1;31merror\u001b[0m: /build/opencv-iepTEA/opencv-2.4.9+dfsg/modules/imgproc/src/color.cpp:3642: error: (-215) depth == CV_8U || depth == CV_16U || depth == CV_32F in function cvtColor\n"
     ]
    }
   ],
   "source": [
    "hsiobelix[:,:,2] *=360\n",
    "unhsi = cv2.cvtColor(hsiobelix,cv2.COLOR_HSV2BGR)"
   ]
  },
  {
   "cell_type": "code",
   "execution_count": 21,
   "metadata": {
    "collapsed": false
   },
   "outputs": [],
   "source": [
    "cv2.startWindowThread()\n",
    "cv2.namedWindow(\"test\", cv2.WINDOW_NORMAL)\n",
    "cv2.imshow(\"test\", unhsi)\n",
    "cv2.resizeWindow('test',600,600)"
   ]
  },
  {
   "cell_type": "code",
   "execution_count": 31,
   "metadata": {
    "collapsed": false
   },
   "outputs": [
    {
     "name": "stdout",
     "output_type": "stream",
     "text": [
      "[[ 0.  0.  0. ...,  0.  0.  0.]\n",
      " [ 0.  0.  0. ...,  0.  0.  0.]\n",
      " [ 0.  0.  0. ...,  0.  0.  0.]\n",
      " ..., \n",
      " [ 0.  0.  0. ...,  0.  0.  0.]\n",
      " [ 0.  0.  0. ...,  0.  0.  0.]\n",
      " [ 0.  0.  0. ...,  0.  0.  0.]]\n"
     ]
    }
   ],
   "source": [
    "print unhsi[0]"
   ]
  },
  {
   "cell_type": "code",
   "execution_count": null,
   "metadata": {
    "collapsed": true
   },
   "outputs": [],
   "source": []
  }
 ],
 "metadata": {
  "kernelspec": {
   "display_name": "Python 2",
   "language": "python",
   "name": "python2"
  },
  "language_info": {
   "codemirror_mode": {
    "name": "ipython",
    "version": 2
   },
   "file_extension": ".py",
   "mimetype": "text/x-python",
   "name": "python",
   "nbconvert_exporter": "python",
   "pygments_lexer": "ipython2",
   "version": "2.7.10"
  }
 },
 "nbformat": 4,
 "nbformat_minor": 0
}
