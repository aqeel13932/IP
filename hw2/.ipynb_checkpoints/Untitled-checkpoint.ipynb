{
 "cells": [
  {
   "cell_type": "code",
   "execution_count": 1,
   "metadata": {
    "collapsed": false
   },
   "outputs": [
    {
     "name": "stdout",
     "output_type": "stream",
     "text": [
      "(2724, 2336)\n",
      "(592, 429)\n"
     ]
    }
   ],
   "source": [
    "import cv2\n",
    "import cv\n",
    "import numpy as np\n",
    "import matplotlib as plt\n",
    "def adjust_gamma(image, gamma=1.0):\n",
    "\t# build a lookup table mapping the pixel values [0, 255] to\n",
    "\t# their adjusted gamma values\n",
    "\tinvGamma = 1.0 / gamma\n",
    "\ttable = np.array([((i / 255.0) ** invGamma) * 255\n",
    "\t\tfor i in np.arange(0, 256)]).astype(\"uint8\")\n",
    "\n",
    "\t# apply gamma correction using the lookup table\n",
    "\treturn cv2.LUT(image, table)\n",
    "\n",
    "def showimg(img):\n",
    "    plt.imshow(img)\n",
    "    #cv2.namedWindow(\"test\", cv2.WINDOW_NORMAL)\n",
    "    #cv2.imshow('test',img)\n",
    "    #cv2.resizeWindow('test',600,600)\n",
    "\n",
    "def readimg(name):\n",
    "    return cv2.imread(name,0)\n",
    "obelix =readimg('Obelix.jpg')\n",
    "mypic = readimg('mypicture.jpg')\n",
    "#showimg(mypic)\n",
    "print obelix.shape\n",
    "print mypic.shape\n",
    "showimg(adjust_gamma(mypic,1))"
   ]
  },
  {
   "cell_type": "code",
   "execution_count": null,
   "metadata": {
    "collapsed": true
   },
   "outputs": [],
   "source": []
  }
 ],
 "metadata": {
  "kernelspec": {
   "display_name": "Python 2",
   "language": "python",
   "name": "python2"
  },
  "language_info": {
   "codemirror_mode": {
    "name": "ipython",
    "version": 2
   },
   "file_extension": ".py",
   "mimetype": "text/x-python",
   "name": "python",
   "nbconvert_exporter": "python",
   "pygments_lexer": "ipython2",
   "version": "2.7.10"
  }
 },
 "nbformat": 4,
 "nbformat_minor": 0
}
